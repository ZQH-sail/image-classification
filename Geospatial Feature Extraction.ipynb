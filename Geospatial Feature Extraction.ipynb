{
 "cells": [
  {
   "cell_type": "code",
   "execution_count": 4,
   "metadata": {},
   "outputs": [],
   "source": [
    "from osgeo import gdal\n",
    "from skimage.segmentation import felzenszwalb, slic, quickshift, watershed\n",
    "from skimage.color import rgb2gray\n",
    "import matplotlib.pyplot as plt\n",
    "import numpy as np\n",
    "import scipy.stats\n",
    "from sklearn.decomposition import PCA\n",
    "from sklearn.cluster import KMeans\n",
    "from sklearn.preprocessing import normalize\n",
    "from skimage.segmentation import mark_boundaries"
   ]
  },
  {
   "cell_type": "markdown",
   "metadata": {},
   "source": [
    "# Data set \n",
    "\n",
    "We will grab a Washington State 4 band R,G,B,IR Imagery to analyze \n",
    "\n",
    "http://geo.wa.gov/datasets/statewide-naip-2006-18in-color-imagery\n",
    "\n",
    "\n",
    "Image is in the format\n",
    "\n",
    "- Band 1 : Red\n",
    "- Band 2 : Green\n",
    "- Band 3 : Blue\n",
    "- Band 4 : Infrared"
   ]
  },
  {
   "cell_type": "code",
   "execution_count": 7,
   "metadata": {},
   "outputs": [
    {
     "name": "stdout",
     "output_type": "stream",
     "text": [
      "(4, 4100, 15000)\n",
      "(4, 100, 100)\n"
     ]
    }
   ],
   "source": [
    "# open up the dataset and convert to numpy array\n",
    "file = 'Washington_State.tif'\n",
    "imgds = gdal.Open(file)\n",
    "imgarr = imgds.ReadAsArray()\n",
    "print(imgarr.shape)\n",
    "\n",
    "imgarr_subset = imgarr[:,2000:2100,7000:7100]\n",
    "print(imgarr_subset.shape)"
   ]
  },
  {
   "cell_type": "markdown",
   "metadata": {},
   "source": [
    "## The Plan \n",
    "\n",
    "- [] First we will run a super pixel algorithm on the image to segment the datasource on a scale scale level. \n",
    "\n",
    "- [] Then we will run zonal statistics on each of the super pixel segmentations using the original R,G,B,IR bands basic summary stats. \n",
    "\n",
    "- [] Come up with a way to incoorporate the spatial autocorrellation methods. AKA groups near one another are more likely to be similar. \n",
    "\n",
    "- [] Run PCA to decompose. \n",
    "\n",
    "- [] Stretch the first components of the first couple? \n",
    "\n",
    "- [] Run a clustering algorithm. \n",
    "\n",
    "- [] Assign clusters to zones\n",
    "\n",
    "- [] Export the groupings using the Datashader package"
   ]
  },
  {
   "cell_type": "code",
   "execution_count": 40,
   "metadata": {},
   "outputs": [],
   "source": [
    "# create a image object class that will \n",
    "# requires GDAL\n",
    "\n",
    "class ImageSegment:\n",
    "    \n",
    "    def __init__(self,file_path,array):\n",
    "        \n",
    "        self.file = file_path\n",
    "        self.imgds = gdal.Open(self.file)\n",
    "        self.imgarr = self.imgds.ReadAsArray()\n",
    "#         self.imgarr = array\n",
    "    # we will create four different segmentation implementations using the four segmentation algorithms based \n",
    "    # on the implementation here: \n",
    "    # [https://scikit-image.org/docs/dev/auto_examples/segmentation/plot_segmentations.html]\n",
    "    # Felzenszwalb\n",
    "    # SLIC \n",
    "    # Quickshift\n",
    "    # Compact Watershed\n",
    "    \n",
    "    def segment_felzenszwalb(self,scale=10,sigma=0.5,min_size=5):\n",
    "        \n",
    "        # our gdal import array is (z,y,x) we need the data in (y,x,z). Where x=long, y=lat, z=color and only the RGB channels\n",
    "        \n",
    "        analysis_img = np.swapaxes(self.imgarr,0,2)\n",
    "        analysis_img = np.swapaxes(analysis_img,0,1)\n",
    "        self.image_reshaped = analysis_img\n",
    "        analysis_img = analysis_img[:,:,:3]\n",
    "        self.segmentation = felzenszwalb(self.image_reshaped, scale=scale, sigma=sigma, min_size=min_size)\n",
    "        self.segmentation_type = 'felzenszwalb'\n",
    "\n",
    "        \n",
    "    def zonal_stats(self):\n",
    "        \n",
    "        segmentation = self.segmentation\n",
    "        \n",
    "        zonal_stats = []\n",
    "        n = np.max(segmentation)\n",
    "        for i in range(n):\n",
    "            vals = self.image_reshaped[np.where(segmentation==i)]\n",
    "            # calculate the min,max,mean,median,variance,kurtosis of each band. \n",
    "            rgb_stats = []\n",
    "            for j in range(vals.shape[1]):\n",
    "                band = vals[:][j]\n",
    "                rgb_stats.append(np.min(band))\n",
    "                rgb_stats.append(np.max(band))\n",
    "                rgb_stats.append(np.var(band))\n",
    "                rgb_stats.append(np.median(band))\n",
    "                rgb_stats.append(np.mean(band))\n",
    "                rgb_stats.append(scipy.stats.kurtosis(band))\n",
    "                rgb_stats.append(scipy.stats.skew(band))\n",
    "            zonal_stats.append(rgb_stats)\n",
    "            \n",
    "        self.zonal_stats = zonal_stats\n",
    "        \n",
    "    def pca_decomposition(self,pct=0.98):\n",
    "        \n",
    "        pca = PCA(pct)\n",
    "        normalized = normalize(self.zonal_stats)\n",
    "        normalized = np.ma.fix_invalid(normalized)\n",
    "        self.normalized = normalized.data\n",
    "        self.pca_fit_transform = pca.fit_transform(self.zonal_stats)\n",
    "    \n",
    "    def kmeans_cluster(self,n_clusters=20,init='random', n_init=10, max_iter=300,tol=1e-04, random_state=0):\n",
    "        \n",
    "        kmeans = KMeans(\n",
    "                    n_clusters=n_clusters, init=init,\n",
    "                    n_init=n_init, max_iter=max_iter, \n",
    "                    tol=tol, random_state=random_state)\n",
    " \n",
    "        fit = kmeans.fit_predict(self.pca_fit_transform)\n",
    "        \n",
    "        self.kmeans_prediction = fit\n",
    "    \n",
    "    def reassign_labels(self):\n",
    "        \n",
    "        classified = np.copy(self.segmentation)\n",
    "        for i,val in enumerate(self.kmeans_prediction):\n",
    "            \n",
    "            classified = np.where(classified == i,np.zeros(classified.shape) + self.kmeans_prediction[i],classified) \n",
    "        classified[classified == np.max(self.segmentation)] = self.kmeans_prediction[-1]\n",
    "        \n",
    "        self.classified = classified\n",
    "    \n",
    "    def plot_image_rgb(self):\n",
    "        plt.imshow(self.image_reshaped)\n",
    "    \n",
    "    def plot_segmentation(self):\n",
    "        plt.imshow(self.segmentation)\n",
    "        \n",
    "    def plot_groups(self):\n",
    "        plt.imshow(self.classified)\n",
    "        plt.colorbar()\n",
    "    \n",
    "    def plot_boundaries(self):\n",
    "        plt.imshow(mark_boundaries(self.image_reshaped,self.segmentation))\n",
    "    \n",
    "    def write_classification(self,outfile=\"outputfile.tif\"):\n",
    "        \n",
    "        [cols,rows] = self.classified.shape\n",
    "        data = self.imgds\n",
    "    \n",
    "        trans = data.GetGeoTransform()\n",
    "        proj = data.GetProjection()\n",
    "        nodatav = data.GetNoDataValue()\n",
    "        outfile = outfile\n",
    "\n",
    "        # Create the file, using the information from the original file\n",
    "        outdriver = gdal.GetDriverByName(\"GTiff\")\n",
    "        outdata = outdriver.Create(str(outfile), rows, cols, 1, gdal.GDT_Float32)\n",
    "\n",
    "        # Write the array to the file, which is the original array in this example\n",
    "        outdata.GetRasterBand(1).WriteArray(self.classified)\n",
    "\n",
    "        # Set a no data value if required\n",
    "        outdata.GetRasterBand(1).SetNoDataValue(nodatav)\n",
    "\n",
    "        # Georeference the image\n",
    "        outdata.SetGeoTransform(trans)\n",
    "\n",
    "        # Write projection information\n",
    "        outdata.SetProjection(proj)\n"
   ]
  },
  {
   "cell_type": "code",
   "execution_count": null,
   "metadata": {},
   "outputs": [
    {
     "name": "stderr",
     "output_type": "stream",
     "text": [
      "/Users/thomasmetos/opt/anaconda3/lib/python3.7/site-packages/skimage/segmentation/_felzenszwalb.py:64: RuntimeWarning: Got image with third dimension of 4. This image will be interpreted as a multichannel 2d image, which may not be intended.\n",
      "  min_size=min_size)\n"
     ]
    }
   ],
   "source": [
    "file = 'Washington_State.tif'\n",
    "imgseg = ImageSegment(file,imgarr_subset)\n",
    "imgseg.segment_felzenszwalb()\n",
    "imgseg.zonal_stats()\n",
    "imgseg.pca_decomposition()\n",
    "imgseg.kmeans_cluster()\n",
    "imgseg.reassign_labels()"
   ]
  },
  {
   "cell_type": "code",
   "execution_count": 38,
   "metadata": {},
   "outputs": [
    {
     "data": {
      "image/png": "[encoded data removed]",
      "text/plain": [
       "<Figure size 432x288 with 1 Axes>"
      ]
     },
     "metadata": {
      "needs_background": "light"
     },
     "output_type": "display_data"
    }
   ],
   "source": [
    "imgseg.plot_image_rgb()"
   ]
  },
  {
   "cell_type": "code",
   "execution_count": 39,
   "metadata": {},
   "outputs": [
    {
     "data": {
      "image/png": "[encoded data removed]",
      "text/plain": [
       "<Figure size 432x288 with 2 Axes>"
      ]
     },
     "metadata": {
      "needs_background": "light"
     },
     "output_type": "display_data"
    }
   ],
   "source": [
    "imgseg.plot_groups()"
   ]
  },
  {
   "cell_type": "markdown",
   "metadata": {},
   "source": [
    "# Incoorporate these later. "
   ]
  },
  {
   "cell_type": "code",
   "execution_count": null,
   "metadata": {},
   "outputs": [],
   "source": [
    "        \n",
    "    def segment_slic(self,n_segments=250, compactness=10, sigma=1):\n",
    "        \n",
    "        # our gdal import array is (z,y,x) we need the data in (y,x,z). Where x=long, y=lat, z=color \n",
    "        \n",
    "        analysis_img = np.swapaxes(self.imgarr,0,2)\n",
    "        analysis_img = np.swapaxes(self.imgarr,0,1)\n",
    "        self.image_reshaped = analysis_img\n",
    "        analysis_img = analysis_img[:][:][:2]\n",
    "        self.segmentation = slic(self.analysis_img, n_segments=n_segments, compactness=compactness, sigma=sigma)\n",
    "        self.segmentation_type = 'slic'\n",
    "        \n",
    "    def segment_quickshift(self,kernel_size=3, max_dist=6, ratio=0.5):\n",
    "                # our gdal import array is (z,y,x) we need the data in (y,x,z). Where x=long, y=lat, z=color \n",
    "        \n",
    "        analysis_img = np.swapaxes(self.imgarr,0,2)\n",
    "        #analysis_img = np.swapaxes(self.imgarr,0,1)\n",
    "        self.image_reshaped = analysis_img\n",
    "        self.analysis_img = analysis_img[:][:][:2]\n",
    "        self.segmentation = quickshift(self.analysis_img, kernel_size=kernel_size, max_dist=max_dist, ratio=ratio)\n",
    "        self.segmentation_type = 'quickshift'\n",
    "        \n",
    "    def segment_watershed(self,markers=250, compactness=0.001):\n",
    "        \n",
    "        analysis_img = np.swapaxes(self.imgarr,0,2)\n",
    "        #analysis_img = np.swapaxes(self.imgarr,0,1)\n",
    "        self.image_reshaped = analysis_img\n",
    "        analysis_img = analysis_img[:][:][:2]\n",
    "        \n",
    "        gradient = sobel(rgb2gray(self.analysis_img))\n",
    "        self.segmentation = watershed(gradient, markers=markers, compactness=compactness)\n",
    "        self.segmentation_type = 'watershed'"
   ]
  },
  {
   "cell_type": "code",
   "execution_count": null,
   "metadata": {},
   "outputs": [],
   "source": []
  },
  {
   "cell_type": "code",
   "execution_count": null,
   "metadata": {},
   "outputs": [],
   "source": []
  },
  {
   "cell_type": "code",
   "execution_count": null,
   "metadata": {},
   "outputs": [],
   "source": []
  }
 ],
 "metadata": {
  "kernelspec": {
   "display_name": "Python 3",
   "language": "python",
   "name": "python3"
  },
  "language_info": {
   "codemirror_mode": {
    "name": "ipython",
    "version": 3
   },
   "file_extension": ".py",
   "mimetype": "text/x-python",
   "name": "python",
   "nbconvert_exporter": "python",
   "pygments_lexer": "ipython3",
   "version": "3.7.4"
  }
 },
 "nbformat": 4,
 "nbformat_minor": 2
}
